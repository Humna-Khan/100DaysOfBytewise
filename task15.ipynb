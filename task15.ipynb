{
 "cells": [
  {
   "cell_type": "code",
   "execution_count": null,
   "metadata": {},
   "outputs": [],
   "source": [
    "import pandas as pd\n",
    "from sklearn.model_selection import train_test_split\n",
    "from sklearn.tree import DecisionTreeClassifier\n",
    "from sklearn.preprocessing import StandardScaler\n",
    "from sklearn.metrics import accuracy_score, confusion_matrix, ConfusionMatrixDisplay\n",
    "\n",
    "trainData = pd.read_csv('mnist_train.csv')\n",
    "print(trainData.info())\n",
    "testData = pd.read_csv('mnist_test.csv')\n",
    "print(testData.info())\n",
    "\n",
    "#Features and targets of training data\n",
    "X_train = trainData.drop(columns=['label']) \n",
    "y_train = trainData['label']\n",
    "\n",
    "#Features and targets of testing data\n",
    "X_test = testData.drop(columns=['label'])  \n",
    "y_test = testData['label']\n",
    "\n",
    "#Normalizing pixel values\n",
    "X_train = X_train / 255.0\n",
    "X_test = X_test / 255.0\n",
    "\n",
    "model = DecisionTreeClassifier(random_state=42)\n",
    "model.fit(X_train, y_train)\n",
    "\n",
    "y_pred = model.predict(X_test)\n",
    "\n",
    "accuracyScore = accuracy_score(y_test, y_pred)\n",
    "print(f'Accuracy Score: {accuracyScore:.2f}')\n",
    "\n",
    "confusionMatrix = confusion_matrix(y_test, y_pred)\n",
    "disp = ConfusionMatrixDisplay(confusionMatrix)\n",
    "disp.plot()\n"
   ]
  }
 ],
 "metadata": {
  "language_info": {
   "name": "python"
  }
 },
 "nbformat": 4,
 "nbformat_minor": 2
}
